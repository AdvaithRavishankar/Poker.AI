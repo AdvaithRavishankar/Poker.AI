{
 "cells": [
  {
   "cell_type": "code",
   "execution_count": 1,
   "id": "7745e4c2",
   "metadata": {},
   "outputs": [],
   "source": [
    "import random\n",
    "from poker_env import PokerEnv\n",
    "from engine.game.game import TexasHoldEm\n",
    "from engine.game.action_type import ActionType\n",
    "from agent import CrammerAgent, RandomAgent\n",
    "import numpy as np"
   ]
  },
  {
   "cell_type": "code",
   "execution_count": 2,
   "id": "61315ccb",
   "metadata": {},
   "outputs": [],
   "source": [
    "num_players = 6\n",
    "num_games = 1000\n",
    "\n",
    "winnings = {}\n",
    "winning_chips = {}\n",
    "for i in range(num_players):\n",
    "    winnings[i] = 0\n",
    "    winning_chips[i] = 0\n",
    "\n",
    "for _ in range(num_games):\n",
    "    game = TexasHoldEm(500, 5, 2, num_players)\n",
    "\n",
    "    crammer_agent = CrammerAgent(game)\n",
    "    random_agent = RandomAgent(game)\n",
    "\n",
    "    game.start_hand()\n",
    "    while game.is_hand_running():\n",
    "\n",
    "        lines = []\n",
    "        for i in range(len(game.pots)):\n",
    "            lines.append(\n",
    "                f\"Pot {i}: {game.pots[i].get_total_amount()} Board: {game.board}\"\n",
    "            )\n",
    "\n",
    "        if game.current_player < 2:\n",
    "            bet, val = crammer_agent.calculate_action()\n",
    "            # print(bet, val)\n",
    "        else:\n",
    "            bet, val = random_agent.calculate_action()\n",
    "\n",
    "        game.take_action(bet, val)\n",
    "\n",
    "    all_player_chips = []\n",
    "    for player in game.players:\n",
    "        all_player_chips.append(player.chips)\n",
    "\n",
    "    player_won = np.argmax(all_player_chips)\n",
    "\n",
    "    winnings[player_won] += 1\n",
    "    # print(winnings)\n",
    "\n",
    "    for player in game.players:\n",
    "        winning_chips[player.player_id] += (player.chips - 500) / num_games"
   ]
  },
  {
   "cell_type": "code",
   "execution_count": 3,
   "id": "946e1632",
   "metadata": {},
   "outputs": [
    {
     "data": {
      "text/plain": [
       "{0: 183, 1: 198, 2: 130, 3: 129, 4: 158, 5: 202}"
      ]
     },
     "execution_count": 3,
     "metadata": {},
     "output_type": "execute_result"
    }
   ],
   "source": [
    "winnings"
   ]
  },
  {
   "cell_type": "code",
   "execution_count": 4,
   "id": "956cd122",
   "metadata": {},
   "outputs": [
    {
     "data": {
      "text/plain": [
       "{0: 46.565999999999896,\n",
       " 1: 44.44499999999994,\n",
       " 2: -27.520999999999976,\n",
       " 3: -27.810999999999964,\n",
       " 4: -25.711999999999982,\n",
       " 5: -9.987000000000057}"
      ]
     },
     "execution_count": 4,
     "metadata": {},
     "output_type": "execute_result"
    }
   ],
   "source": [
    "winning_chips"
   ]
  },
  {
   "cell_type": "code",
   "execution_count": 4,
   "id": "88652602",
   "metadata": {},
   "outputs": [
    {
     "name": "stdout",
     "output_type": "stream",
     "text": [
      "0 500\n",
      "1 428\n",
      "2 490\n",
      "3 682\n",
      "4 405\n",
      "5 495\n"
     ]
    }
   ],
   "source": [
    "for idx, player in enumerate(game.players):\n",
    "    print(idx, player.chips)"
   ]
  },
  {
   "cell_type": "code",
   "execution_count": 3,
   "id": "7d05afde",
   "metadata": {},
   "outputs": [],
   "source": [
    "difference = 100\n",
    "\n",
    "var = np.random.uniform() * (0.1 * 7461)\n",
    "\n",
    "temp = 1 - (\n",
    "    max(0, min(7461, (difference + var))) / (7461 + 1)\n",
    ")"
   ]
  },
  {
   "cell_type": "code",
   "execution_count": 4,
   "id": "33f493c7",
   "metadata": {},
   "outputs": [
    {
     "data": {
      "text/plain": [
       "0.9767739629872624"
      ]
     },
     "execution_count": 4,
     "metadata": {},
     "output_type": "execute_result"
    }
   ],
   "source": [
    "temp"
   ]
  },
  {
   "cell_type": "code",
   "execution_count": null,
   "id": "74af7d1a",
   "metadata": {},
   "outputs": [],
   "source": []
  }
 ],
 "metadata": {
  "interpreter": {
   "hash": "9b0d7eed1ded67b0150c23823527b532e9094492b70d0870852ac52c7b4fd025"
  },
  "kernelspec": {
   "display_name": "Python 3.8.8 ('base')",
   "language": "python",
   "name": "python3"
  },
  "language_info": {
   "codemirror_mode": {
    "name": "ipython",
    "version": 3
   },
   "file_extension": ".py",
   "mimetype": "text/x-python",
   "name": "python",
   "nbconvert_exporter": "python",
   "pygments_lexer": "ipython3",
   "version": "3.8.5"
  }
 },
 "nbformat": 4,
 "nbformat_minor": 5
}
